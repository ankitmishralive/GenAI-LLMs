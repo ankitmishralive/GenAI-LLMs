{
 "cells": [
  {
   "cell_type": "markdown",
   "metadata": {},
   "source": [
    "### ChromaDB \n",
    "\n",
    "Chroma is a AI-native open-source vector database focused on developer productivity and happiness.   \n",
    "Chrome is licensed under Apache 2.0 "
   ]
  },
  {
   "cell_type": "code",
   "execution_count": null,
   "metadata": {},
   "outputs": [],
   "source": []
  },
  {
   "cell_type": "code",
   "execution_count": 6,
   "metadata": {},
   "outputs": [],
   "source": [
    "from langchain_chroma import Chroma \n",
    "from langchain_community.document_loaders import TextLoader\n",
    "\n",
    "from langchain_community.embeddings import OllamaEmbeddings\n",
    "from langchain_text_splitters import RecursiveCharacterTextSplitter\n"
   ]
  },
  {
   "cell_type": "code",
   "execution_count": 7,
   "metadata": {},
   "outputs": [
    {
     "data": {
      "text/plain": [
       "[Document(metadata={'source': 'speech.txt'}, page_content='World War II was a global conflict that lasted from 1939 to 1945, involving virtually every part of the world. The war began when Germany, under the leadership of Adolf Hitler, invaded Poland on September 1, 1939. This act of aggression prompted Great Britain and France to declare war on Germany.\\n\\nThe war escalated as Germany expanded its territorial control, invading Denmark, Norway, Belgium, the Netherlands, and France. Italy, led by Benito Mussolini, joined the war on Germany’s side in 1940. Japan, meanwhile, had been at war with China since 1937 and eventually entered the global conflict in December 1941, following the surprise attack on Pearl Harbor, Hawaii.\\n\\nThe Allies, comprising the United States, Great Britain, France, the Soviet Union, and China, among others, fought against the Axis powers (Germany, Italy, and Japan). The war saw brutal battles on multiple fronts, including Europe, North Africa, and Asia.')]"
      ]
     },
     "execution_count": 7,
     "metadata": {},
     "output_type": "execute_result"
    }
   ],
   "source": [
    "loader = TextLoader(\"speech.txt\")\n",
    "\n",
    "data = loader.load() \n",
    "\n",
    "data "
   ]
  },
  {
   "cell_type": "code",
   "execution_count": 8,
   "metadata": {},
   "outputs": [],
   "source": [
    "text_splitter = RecursiveCharacterTextSplitter(chunk_size = 500, chunk_overlap=0)\n",
    "\n",
    "splits = text_splitter.split_documents(data)"
   ]
  },
  {
   "cell_type": "code",
   "execution_count": 10,
   "metadata": {},
   "outputs": [],
   "source": [
    "# splits"
   ]
  },
  {
   "cell_type": "code",
   "execution_count": 12,
   "metadata": {},
   "outputs": [
    {
     "data": {
      "text/plain": [
       "<langchain_chroma.vectorstores.Chroma at 0x7271cab87370>"
      ]
     },
     "execution_count": 12,
     "metadata": {},
     "output_type": "execute_result"
    }
   ],
   "source": [
    "embeddings = OllamaEmbeddings(model=\"llama3.1\") \n",
    "\n",
    "vectorDb = Chroma.from_documents(splits, embedding=embeddings)\n",
    "vectorDb"
   ]
  },
  {
   "cell_type": "code",
   "execution_count": 13,
   "metadata": {},
   "outputs": [
    {
     "name": "stderr",
     "output_type": "stream",
     "text": [
      "Number of requested results 4 is greater than number of elements in index 3, updating n_results = 3\n"
     ]
    }
   ],
   "source": [
    "## Query it \n",
    "\n",
    "\n",
    "query = \"When world war 2 begins\"\n",
    "\n",
    "docs = vectorDb.similarity_search(query)\n"
   ]
  },
  {
   "cell_type": "code",
   "execution_count": 15,
   "metadata": {},
   "outputs": [
    {
     "data": {
      "text/plain": [
       "'World War II was a global conflict that lasted from 1939 to 1945, involving virtually every part of the world. The war began when Germany, under the leadership of Adolf Hitler, invaded Poland on September 1, 1939. This act of aggression prompted Great Britain and France to declare war on Germany.'"
      ]
     },
     "execution_count": 15,
     "metadata": {},
     "output_type": "execute_result"
    }
   ],
   "source": [
    "docs[0].page_content"
   ]
  },
  {
   "cell_type": "code",
   "execution_count": 19,
   "metadata": {},
   "outputs": [
    {
     "data": {
      "text/plain": [
       "'World War II was a global conflict that lasted from 1939 to 1945, involving virtually every part of the world. The war began when Germany, under the leadership of Adolf Hitler, invaded Poland on September 1, 1939. This act of aggression prompted Great Britain and France to declare war on Germany.'"
      ]
     },
     "execution_count": 19,
     "metadata": {},
     "output_type": "execute_result"
    }
   ],
   "source": [
    "docs[0].page_content"
   ]
  },
  {
   "cell_type": "code",
   "execution_count": 20,
   "metadata": {},
   "outputs": [],
   "source": [
    "### Save to the disk \n",
    "\n",
    "vectorDb = Chroma.from_documents(splits, embedding=embeddings, persist_directory=\"./chroma_db\")"
   ]
  },
  {
   "cell_type": "markdown",
   "metadata": {},
   "source": [
    "#### Chroma DB internally Creates SQlLite DB "
   ]
  },
  {
   "cell_type": "markdown",
   "metadata": {},
   "source": [
    "##### Loading the disk"
   ]
  },
  {
   "cell_type": "code",
   "execution_count": 21,
   "metadata": {},
   "outputs": [
    {
     "name": "stderr",
     "output_type": "stream",
     "text": [
      "Number of requested results 4 is greater than number of elements in index 3, updating n_results = 3\n"
     ]
    }
   ],
   "source": [
    "## Loading the disk \n",
    "\n",
    "\n",
    "db2 = Chroma(persist_directory=\"./chroma_db\" , embedding_function= embeddings )\n",
    "\n",
    "docs = db2.similarity_search(query)"
   ]
  },
  {
   "cell_type": "code",
   "execution_count": 25,
   "metadata": {},
   "outputs": [
    {
     "data": {
      "text/plain": [
       "'The war escalated as Germany expanded its territorial control, invading Denmark, Norway, Belgium, the Netherlands, and France. Italy, led by Benito Mussolini, joined the war on Germany’s side in 1940. Japan, meanwhile, had been at war with China since 1937 and eventually entered the global conflict in December 1941, following the surprise attack on Pearl Harbor, Hawaii.'"
      ]
     },
     "execution_count": 25,
     "metadata": {},
     "output_type": "execute_result"
    }
   ],
   "source": [
    "docs[2].page_content"
   ]
  },
  {
   "cell_type": "code",
   "execution_count": 27,
   "metadata": {},
   "outputs": [
    {
     "name": "stderr",
     "output_type": "stream",
     "text": [
      "Number of requested results 4 is greater than number of elements in index 3, updating n_results = 3\n"
     ]
    }
   ],
   "source": [
    "retriever = vectorDb.as_retriever() \n",
    "ret=retriever.invoke(query)"
   ]
  },
  {
   "cell_type": "code",
   "execution_count": 30,
   "metadata": {},
   "outputs": [
    {
     "data": {
      "text/plain": [
       "'The war escalated as Germany expanded its territorial control, invading Denmark, Norway, Belgium, the Netherlands, and France. Italy, led by Benito Mussolini, joined the war on Germany’s side in 1940. Japan, meanwhile, had been at war with China since 1937 and eventually entered the global conflict in December 1941, following the surprise attack on Pearl Harbor, Hawaii.'"
      ]
     },
     "execution_count": 30,
     "metadata": {},
     "output_type": "execute_result"
    }
   ],
   "source": [
    "ret[2].page_content"
   ]
  },
  {
   "cell_type": "markdown",
   "metadata": {},
   "source": [
    "\n",
    "More About Vector stores\n",
    "\n",
    "https://python.langchain.com/v0.2/docs/integrations/vectorstores/\n",
    "\n"
   ]
  }
 ],
 "metadata": {
  "kernelspec": {
   "display_name": ".venv",
   "language": "python",
   "name": "python3"
  },
  "language_info": {
   "codemirror_mode": {
    "name": "ipython",
    "version": 3
   },
   "file_extension": ".py",
   "mimetype": "text/x-python",
   "name": "python",
   "nbconvert_exporter": "python",
   "pygments_lexer": "ipython3",
   "version": "3.10.12"
  }
 },
 "nbformat": 4,
 "nbformat_minor": 2
}
