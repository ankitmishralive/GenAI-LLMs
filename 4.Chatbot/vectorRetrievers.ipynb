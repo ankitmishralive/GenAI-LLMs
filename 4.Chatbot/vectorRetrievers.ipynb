{
 "cells": [
  {
   "cell_type": "markdown",
   "metadata": {},
   "source": [
    "## Vector Retrievers\n",
    "\n"
   ]
  },
  {
   "cell_type": "markdown",
   "metadata": {
    "vscode": {
     "languageId": "plaintext"
    }
   },
   "source": [
    "Langchain's vector store and Retriever abstractions. \n",
    "\n",
    "These abstractions are designed to support retrieval of data -- from vector databases and other sources --for integration with LLM workflows.\n",
    "\n",
    "They are important for applications that fetch data to be reasoned over as part of model inference, as in the case of Retrieval Augmented Generation. \n",
    "\n",
    "\n"
   ]
  },
  {
   "cell_type": "markdown",
   "metadata": {},
   "source": [
    "### Documents \n",
    "\n",
    "Langchain implements a Document abstraction, which is intended to represent a unit of text and associated metadata. It has 2 attributes:\n",
    "\n",
    "- page_content: a string representing the content,\n",
    "- metadata: a dict containing arbitary metadata. The metadata attribute can capture informaton about source of the document, its relatonship to other documents and other information. Note that an individual Document object often represents a chunk of larger document.\n",
    "\n"
   ]
  },
  {
   "cell_type": "code",
   "execution_count": 1,
   "metadata": {},
   "outputs": [],
   "source": [
    "import os \n",
    "import pydantic.v1\n",
    "from dotenv import load_dotenv \n",
    "load_dotenv() \n",
    "\n",
    "groq_api_key= os.getenv(\"GROQ_API_KEY\")"
   ]
  },
  {
   "cell_type": "code",
   "execution_count": 2,
   "metadata": {},
   "outputs": [
    {
     "data": {
      "text/plain": [
       "[Document(metadata={'source': 'mammal-pets-doc'}, page_content='Dogs are great companions known for loyalty & friendliness.'),\n",
       " Document(metadata={'source': 'feline-facts-doc'}, page_content='Cats are independent creatures, often appreciated for their grace and agility.'),\n",
       " Document(metadata={'source': 'avian-traits-doc'}, page_content='Birds are known for their ability to fly, though not all species have this capability.'),\n",
       " Document(metadata={'source': 'equine-history-doc'}, page_content='Horses have been domesticated by humans for centuries, primarily for transportation and labor.'),\n",
       " Document(metadata={'source': 'small-mammals-doc'}, page_content='Rabbits are social animals, often kept as pets due to their gentle nature and soft fur.')]"
      ]
     },
     "execution_count": 2,
     "metadata": {},
     "output_type": "execute_result"
    }
   ],
   "source": [
    "from langchain_core.documents import Document\n",
    "\n",
    "documents = [\n",
    "\n",
    "Document(\n",
    "    page_content=\"Dogs are great companions known for loyalty & friendliness.\",\n",
    "    metadata={\"source\":\"mammal-pets-doc\"}\n",
    "),\n",
    "Document(\n",
    "    page_content=\"Cats are independent creatures, often appreciated for their grace and agility.\",\n",
    "    metadata={\"source\":\"feline-facts-doc\"}\n",
    "),\n",
    "\n",
    "Document(\n",
    "    page_content=\"Birds are known for their ability to fly, though not all species have this capability.\",\n",
    "    metadata={\"source\":\"avian-traits-doc\"}\n",
    "),\n",
    "\n",
    "Document(\n",
    "    page_content=\"Horses have been domesticated by humans for centuries, primarily for transportation and labor.\",\n",
    "    metadata={\"source\":\"equine-history-doc\"}\n",
    "),\n",
    "\n",
    "Document(\n",
    "    page_content=\"Rabbits are social animals, often kept as pets due to their gentle nature and soft fur.\",\n",
    "    metadata={\"source\":\"small-mammals-doc\"}\n",
    "),\n",
    "]\n",
    "\n",
    "\n",
    "documents"
   ]
  },
  {
   "cell_type": "code",
   "execution_count": 4,
   "metadata": {},
   "outputs": [],
   "source": [
    "os.environ[\"HUGGINGFACE_TOKEN\"] = os.getenv(\"HUGGINGFACE_TOKEN\")"
   ]
  },
  {
   "cell_type": "code",
   "execution_count": 5,
   "metadata": {},
   "outputs": [
    {
     "data": {
      "text/plain": [
       "ChatGroq(client=<groq.resources.chat.completions.Completions object at 0x7916741966e0>, async_client=<groq.resources.chat.completions.AsyncCompletions object at 0x791674195720>, model_name='llama3-groq-70b-8192-tool-use-preview', model_kwargs={}, groq_api_key=SecretStr('**********'))"
      ]
     },
     "execution_count": 5,
     "metadata": {},
     "output_type": "execute_result"
    }
   ],
   "source": [
    "from langchain_groq import ChatGroq\n",
    "\n",
    "model=ChatGroq(model=\"llama3-groq-70b-8192-tool-use-preview\",groq_api_key=groq_api_key)\n",
    "\n",
    "model"
   ]
  },
  {
   "cell_type": "markdown",
   "metadata": {},
   "source": [
    "## Converting text in to Embedding "
   ]
  },
  {
   "cell_type": "code",
   "execution_count": 18,
   "metadata": {},
   "outputs": [
    {
     "name": "stderr",
     "output_type": "stream",
     "text": [
      "/home/ankitmishralive/Desktop/Ankit Mishra/Programming/Generative A.I -LLMs/Langchain/.venv/lib/python3.10/site-packages/sentence_transformers/cross_encoder/CrossEncoder.py:11: TqdmWarning: IProgress not found. Please update jupyter and ipywidgets. See https://ipywidgets.readthedocs.io/en/stable/user_install.html\n",
      "  from tqdm.autonotebook import tqdm, trange\n",
      "/home/ankitmishralive/Desktop/Ankit Mishra/Programming/Generative A.I -LLMs/Langchain/.venv/lib/python3.10/site-packages/transformers/tokenization_utils_base.py:1601: FutureWarning: `clean_up_tokenization_spaces` was not set. It will be set to `True` by default. This behavior will be depracted in transformers v4.45, and will be then set to `False` by default. For more details check this issue: https://github.com/huggingface/transformers/issues/31884\n",
      "  warnings.warn(\n"
     ]
    },
    {
     "data": {
      "text/plain": [
       "HuggingFaceEmbeddings(client=SentenceTransformer(\n",
       "  (0): Transformer({'max_seq_length': 256, 'do_lower_case': False}) with Transformer model: BertModel \n",
       "  (1): Pooling({'word_embedding_dimension': 384, 'pooling_mode_cls_token': False, 'pooling_mode_mean_tokens': True, 'pooling_mode_max_tokens': False, 'pooling_mode_mean_sqrt_len_tokens': False, 'pooling_mode_weightedmean_tokens': False, 'pooling_mode_lasttoken': False, 'include_prompt': True})\n",
       "  (2): Normalize()\n",
       "), model_name='all-MiniLM-L6-v2', cache_folder=None, model_kwargs={}, encode_kwargs={}, multi_process=False, show_progress=False)"
      ]
     },
     "execution_count": 18,
     "metadata": {},
     "output_type": "execute_result"
    }
   ],
   "source": [
    "from langchain_huggingface import HuggingFaceEmbeddings\n",
    "\n",
    "embeddings = HuggingFaceEmbeddings(model_name=\"all-MiniLM-L6-v2\")\n",
    "\n",
    "embeddings"
   ]
  },
  {
   "cell_type": "code",
   "execution_count": 19,
   "metadata": {},
   "outputs": [
    {
     "data": {
      "text/plain": [
       "<langchain_chroma.vectorstores.Chroma at 0x79156b8eba60>"
      ]
     },
     "execution_count": 19,
     "metadata": {},
     "output_type": "execute_result"
    }
   ],
   "source": [
    "### Vector Store\n",
    "\n",
    "\n",
    "from langchain_chroma import Chroma\n",
    "\n",
    "vectorStore = Chroma.from_documents(documents,embedding=embeddings)\n",
    "\n",
    "vectorStore"
   ]
  },
  {
   "cell_type": "code",
   "execution_count": 20,
   "metadata": {},
   "outputs": [
    {
     "data": {
      "text/plain": [
       "[Document(metadata={'source': 'feline-facts-doc'}, page_content='Cats are independent creatures, often appreciated for their grace and agility.'),\n",
       " Document(metadata={'source': 'small-mammals-doc'}, page_content='Rabbits are social animals, often kept as pets due to their gentle nature and soft fur.'),\n",
       " Document(metadata={'source': 'mammal-pets-doc'}, page_content='Dogs are great companions known for loyalty & friendliness.'),\n",
       " Document(metadata={'source': 'equine-history-doc'}, page_content='Horses have been domesticated by humans for centuries, primarily for transportation and labor.')]"
      ]
     },
     "execution_count": 20,
     "metadata": {},
     "output_type": "execute_result"
    }
   ],
   "source": [
    "vectorStore.similarity_search(\"cat\")"
   ]
  },
  {
   "cell_type": "code",
   "execution_count": 21,
   "metadata": {},
   "outputs": [
    {
     "data": {
      "text/plain": [
       "[Document(metadata={'source': 'feline-facts-doc'}, page_content='Cats are independent creatures, often appreciated for their grace and agility.'),\n",
       " Document(metadata={'source': 'small-mammals-doc'}, page_content='Rabbits are social animals, often kept as pets due to their gentle nature and soft fur.'),\n",
       " Document(metadata={'source': 'mammal-pets-doc'}, page_content='Dogs are great companions known for loyalty & friendliness.'),\n",
       " Document(metadata={'source': 'equine-history-doc'}, page_content='Horses have been domesticated by humans for centuries, primarily for transportation and labor.')]"
      ]
     },
     "execution_count": 21,
     "metadata": {},
     "output_type": "execute_result"
    }
   ],
   "source": [
    "## Async Query by vectorestore \n",
    "\n",
    "await vectorStore.asimilarity_search(\"cat\")"
   ]
  },
  {
   "cell_type": "code",
   "execution_count": 22,
   "metadata": {},
   "outputs": [
    {
     "data": {
      "text/plain": [
       "[(Document(metadata={'source': 'feline-facts-doc'}, page_content='Cats are independent creatures, often appreciated for their grace and agility.'),\n",
       "  0.9895869493484497),\n",
       " (Document(metadata={'source': 'small-mammals-doc'}, page_content='Rabbits are social animals, often kept as pets due to their gentle nature and soft fur.'),\n",
       "  1.5084611177444458),\n",
       " (Document(metadata={'source': 'mammal-pets-doc'}, page_content='Dogs are great companions known for loyalty & friendliness.'),\n",
       "  1.5920161008834839),\n",
       " (Document(metadata={'source': 'equine-history-doc'}, page_content='Horses have been domesticated by humans for centuries, primarily for transportation and labor.'),\n",
       "  1.7771875858306885)]"
      ]
     },
     "execution_count": 22,
     "metadata": {},
     "output_type": "execute_result"
    }
   ],
   "source": [
    "vectorStore.similarity_search_with_score(\"cat\")"
   ]
  },
  {
   "cell_type": "markdown",
   "metadata": {},
   "source": [
    "### Retriever \n",
    "\n",
    "Langchain Vector Store objects do not subclass Runnable, and so cannot immediately be integrated into \n",
    "Langchain Expression Language chains ( LCEL ).\n",
    "\n",
    "Langchain Retrievers are Runnables, so they can implement a standard set of methods \n",
    "( e.g synchronous and asyncrhonous invoke and batch operations )  are designed to be incorporated in LCEL chain \n",
    "\n",
    "\n",
    "\n",
    "\n",
    "\n",
    "We can create simple version of this ourselves, without subclassing Retriever. \n",
    "If we choose what method we wish to use to retriever documents, we can create a runnable easily.  "
   ]
  },
  {
   "cell_type": "code",
   "execution_count": 29,
   "metadata": {},
   "outputs": [
    {
     "data": {
      "text/plain": [
       "[[Document(metadata={'source': 'feline-facts-doc'}, page_content='Cats are independent creatures, often appreciated for their grace and agility.')],\n",
       " [Document(metadata={'source': 'mammal-pets-doc'}, page_content='Dogs are great companions known for loyalty & friendliness.')],\n",
       " [Document(metadata={'source': 'avian-traits-doc'}, page_content='Birds are known for their ability to fly, though not all species have this capability.')]]"
      ]
     },
     "execution_count": 29,
     "metadata": {},
     "output_type": "execute_result"
    }
   ],
   "source": [
    "from typing import List \n",
    "from langchain_core.documents  import Document\n",
    "from langchain_core.runnables import RunnableLambda\n",
    "\n",
    "\n",
    "\n",
    "retriever = RunnableLambda(vectorStore.similarity_search).bind(k=1)  \n",
    "\n",
    "retriever.batch([\"cat\",\"dog\",'bird']) "
   ]
  },
  {
   "cell_type": "markdown",
   "metadata": {},
   "source": [
    "Vectorstores implement an as_retriever method that will generate a Retriever, specifically a Vector Retriever.    \n",
    "These retrievers include specific search_type and search_kwargs attributes that identify what methods of the underlying vector store to call , and how to parameterize them.    \n",
    "For instance, we can replicate the above "
   ]
  },
  {
   "cell_type": "code",
   "execution_count": 30,
   "metadata": {},
   "outputs": [
    {
     "data": {
      "text/plain": [
       "[[Document(metadata={'source': 'feline-facts-doc'}, page_content='Cats are independent creatures, often appreciated for their grace and agility.')],\n",
       " [Document(metadata={'source': 'mammal-pets-doc'}, page_content='Dogs are great companions known for loyalty & friendliness.')],\n",
       " [Document(metadata={'source': 'avian-traits-doc'}, page_content='Birds are known for their ability to fly, though not all species have this capability.')]]"
      ]
     },
     "execution_count": 30,
     "metadata": {},
     "output_type": "execute_result"
    }
   ],
   "source": [
    "vectorStore.as_retriever(\n",
    "\n",
    "search_type=\"similarity\",\n",
    "search_kwargs = {'k':1}\n",
    ")\n",
    "\n",
    "retriever.batch([\"cat\",\"dog\",'bird']) "
   ]
  },
  {
   "cell_type": "code",
   "execution_count": 34,
   "metadata": {},
   "outputs": [
    {
     "name": "stdout",
     "output_type": "stream",
     "text": [
      "Dogs are great companions known for loyalty and friendliness.\n"
     ]
    }
   ],
   "source": [
    "from langchain_core.prompts import ChatPromptTemplate\n",
    "from langchain_core.runnables import RunnablePassthrough\n",
    "\n",
    "message = \"\"\"\n",
    "Answer this question using provided context only. \n",
    "{question}\n",
    "\n",
    "Context:\n",
    "{context}\n",
    "\"\"\"\n",
    "\n",
    "\n",
    "prompt = ChatPromptTemplate.from_messages( [('human',message)] )\n",
    "\n",
    "\n",
    "rag_chain = {\n",
    "    \"context\":retriever,\"question\":RunnablePassthrough()} | prompt | model  # Runnable pass through means -> Yeah info Invoke ke time millega \n",
    "\n",
    "\n",
    "\n",
    "response = rag_chain.invoke(\"tell me about dogs\")\n",
    "\n",
    "print(response.content)"
   ]
  },
  {
   "cell_type": "code",
   "execution_count": null,
   "metadata": {},
   "outputs": [],
   "source": []
  },
  {
   "cell_type": "code",
   "execution_count": null,
   "metadata": {},
   "outputs": [],
   "source": []
  },
  {
   "cell_type": "code",
   "execution_count": null,
   "metadata": {},
   "outputs": [],
   "source": []
  },
  {
   "cell_type": "code",
   "execution_count": null,
   "metadata": {},
   "outputs": [],
   "source": []
  },
  {
   "cell_type": "code",
   "execution_count": null,
   "metadata": {},
   "outputs": [],
   "source": []
  }
 ],
 "metadata": {
  "kernelspec": {
   "display_name": ".venv",
   "language": "python",
   "name": "python3"
  },
  "language_info": {
   "codemirror_mode": {
    "name": "ipython",
    "version": 3
   },
   "file_extension": ".py",
   "mimetype": "text/x-python",
   "name": "python",
   "nbconvert_exporter": "python",
   "pygments_lexer": "ipython3",
   "version": "3.10.12"
  }
 },
 "nbformat": 4,
 "nbformat_minor": 2
}
