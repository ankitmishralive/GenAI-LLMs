{
 "cells": [
  {
   "cell_type": "markdown",
   "metadata": {},
   "source": [
    "## Building a Chatbot \n",
    "\n",
    "\n",
    "In this video we'll go over an eg of how to design and implement an LLM Powered chatbot. This chatbot will be able to have a conversation and remember \n",
    "previous interactions. \n",
    "\n",
    "Note that this chtbotthat we build will only use the language model to have a conversation. \n",
    "\n",
    "There are several other related concepts that you may be looking for  Like:\n",
    "\n",
    "- Conversational RAG: Enable a chatbot experience over an external source of data.\n",
    "- Agents: Buid a chatbot that can take actions \n"
   ]
  },
  {
   "cell_type": "code",
   "execution_count": 1,
   "metadata": {},
   "outputs": [],
   "source": [
    "import os \n",
    "import pydantic.v1\n",
    "from dotenv import load_dotenv \n",
    "load_dotenv() \n",
    "\n",
    "groq_api_key= os.getenv(\"GROQ_API_KEY\")"
   ]
  },
  {
   "cell_type": "code",
   "execution_count": 2,
   "metadata": {},
   "outputs": [
    {
     "data": {
      "text/plain": [
       "ChatGroq(client=<groq.resources.chat.completions.Completions object at 0x7ce340e8a3b0>, async_client=<groq.resources.chat.completions.AsyncCompletions object at 0x7ce340eb4550>, model_name='gemma2-9b-it', model_kwargs={}, groq_api_key=SecretStr('**********'))"
      ]
     },
     "execution_count": 2,
     "metadata": {},
     "output_type": "execute_result"
    }
   ],
   "source": [
    "from langchain_groq import ChatGroq\n",
    "\n",
    "model=ChatGroq(model=\"gemma2-9b-it\",groq_api_key=groq_api_key)\n",
    "\n",
    "model"
   ]
  },
  {
   "cell_type": "code",
   "execution_count": 3,
   "metadata": {},
   "outputs": [
    {
     "data": {
      "text/plain": [
       "AIMessage(content=\"Hi Ankit, it's nice to meet you!\\n\\nThat's a fascinating field!  As a large language model, I'm constantly learning about the amazing things people are doing with machine learning and generative AI.\\n\\nWhat kind of projects are you working on these days? I'd love to hear more about your work.\\n\", additional_kwargs={}, response_metadata={'token_usage': {'completion_tokens': 72, 'prompt_tokens': 28, 'total_tokens': 100, 'completion_time': 0.130909091, 'prompt_time': 0.000140399, 'queue_time': 0.013099000000000001, 'total_time': 0.13104949}, 'model_name': 'gemma2-9b-it', 'system_fingerprint': 'fp_10c08bf97d', 'finish_reason': 'stop', 'logprobs': None}, id='run-24fd2348-d07d-4075-a96f-1414e37adc5a-0', usage_metadata={'input_tokens': 28, 'output_tokens': 72, 'total_tokens': 100})"
      ]
     },
     "execution_count": 3,
     "metadata": {},
     "output_type": "execute_result"
    }
   ],
   "source": [
    "\n",
    "from langchain_core.messages import HumanMessage\n",
    "model.invoke([HumanMessage(content=\"Hi, my name is Ankit i am a Machine learning & Generative A.I Engineer\")])\n"
   ]
  },
  {
   "cell_type": "code",
   "execution_count": 15,
   "metadata": {},
   "outputs": [
    {
     "data": {
      "text/plain": [
       "AIMessage(content=\"You said your name is Ankit, and that you are a Machine Learning & Generative AI Engineer!  \\n\\nIs there anything else you'd like me to know about you or your work? 😊  \\n\\n\", additional_kwargs={}, response_metadata={'token_usage': {'completion_tokens': 46, 'prompt_tokens': 92, 'total_tokens': 138, 'completion_time': 0.083636364, 'prompt_time': 0.002596733, 'queue_time': 0.010668476999999999, 'total_time': 0.086233097}, 'model_name': 'gemma2-9b-it', 'system_fingerprint': 'fp_10c08bf97d', 'finish_reason': 'stop', 'logprobs': None}, id='run-82b37e82-e2d0-4680-86dd-a6edd833e963-0', usage_metadata={'input_tokens': 92, 'output_tokens': 46, 'total_tokens': 138})"
      ]
     },
     "execution_count": 15,
     "metadata": {},
     "output_type": "execute_result"
    }
   ],
   "source": [
    "from langchain_core.messages import AIMessage\n",
    "\n",
    "model.invoke(\n",
    "    [\n",
    "      HumanMessage(content=\"Hi, my name is Ankit i am a Machine learning & Generative A.I Engineer\"),\n",
    "      AIMessage(content=\"Hello Ankit! It's nice to meet you. \\n\\n a ML & Gen A.I Engineer, what kindoff project you are working on , am always eager to know about A.I\"),\n",
    "      HumanMessage(content=\"Hey what's my name and what do i do ? \")    \n",
    "\n",
    "    ]\n",
    ")\n",
    "\n",
    "\n",
    "# Important thing here is, it is able to remember previous message context \n"
   ]
  },
  {
   "cell_type": "markdown",
   "metadata": {},
   "source": [
    "###  Messag History \n",
    "\n",
    "This is one of the imp things in Langchain \n",
    "\n",
    "- We can use a Message history class to wrap our model and mke it stateful, This will keep track of inputs and outputs of the model, and store them in some   \n",
    "datastore. Further interactions will then load those messages and pass them into the chain as part of the input. \n",
    "Let's see how to use this \n",
    "\n",
    "\n",
    "pip install langchain-community "
   ]
  },
  {
   "cell_type": "code",
   "execution_count": 5,
   "metadata": {},
   "outputs": [],
   "source": [
    "# !pip install langchain-community "
   ]
  },
  {
   "cell_type": "markdown",
   "metadata": {},
   "source": [
    "\n",
    "- ChatMessageHistory: Yeh ek class hai jo har session ke messages ko track karegi.\n",
    "\n",
    "- BaseChatMessageHistory: Yeh ek base (mool) class hai jo define karti hai ki kaise chat history handle ki jaye. Sab classes jo chat history    \n",
    "ke sath kaam karti hain, usse inherit karti hain.    \n",
    "\n",
    "- RunnableWithMessageHistory: Yeh class model ke saath message history ko combine karti hai, taki humara model purane messages  \n",
    " ka use karke naye responses de sake.  "
   ]
  },
  {
   "cell_type": "code",
   "execution_count": 6,
   "metadata": {},
   "outputs": [],
   "source": [
    "from langchain_community.chat_message_histories import ChatMessageHistory\n",
    "from langchain_core.chat_history import BaseChatMessageHistory\n",
    "from langchain_core.runnables.history import RunnableWithMessageHistory\n",
    "\n",
    "# how to make sure one session is different then another session \n",
    "\n",
    "store = {}\n",
    "def get_session_history(session_id:str)-> BaseChatMessageHistory:\n",
    "    if session_id not in store:\n",
    "        # Whenever we are storing session id we are initializing chatmessage history \n",
    "        store[session_id] = ChatMessageHistory()\n",
    "    return store[session_id]\n",
    "\n",
    "\n",
    "with_message_history = RunnableWithMessageHistory(model,get_session_history) # for our model to make sure our model interacts with chat history \n"
   ]
  },
  {
   "cell_type": "markdown",
   "metadata": {},
   "source": [
    "RunnableWithMessageHistory ka use hota hai humare model ke sath chat history ko integrate karne ke liye.   \n",
    "model: Yeh aapka AI model hai jo responses generate karega.   \n",
    "get_session_history: Yeh function model ko help karta hai session ke specific messages ko retrieve karne mein.   \n",
    "Iska matlab yeh hai ki jab user koi naya message bhejega, toh model ko us session ka pura context milega purane   \n",
    " messages se, aur model better respond kar payega."
   ]
  },
  {
   "cell_type": "code",
   "execution_count": 7,
   "metadata": {},
   "outputs": [],
   "source": [
    "config = {\"configurable\": {\"session_id\":\"chat1\"}}"
   ]
  },
  {
   "cell_type": "code",
   "execution_count": 19,
   "metadata": {},
   "outputs": [
    {
     "data": {
      "text/plain": [
       "'Hi Ankit!  \\n\\nI remember you told me your name is Ankit. 😊  \\n\\nIs there anything I can help you with? \\n'"
      ]
     },
     "execution_count": 19,
     "metadata": {},
     "output_type": "execute_result"
    }
   ],
   "source": [
    "response =with_message_history.invoke(\n",
    "    [HumanMessage(content=\"what's my name?\")],\n",
    "    config=config\n",
    ")\n",
    "\n",
    "response.content"
   ]
  },
  {
   "cell_type": "code",
   "execution_count": 20,
   "metadata": {},
   "outputs": [
    {
     "data": {
      "text/plain": [
       "'Your name is John.  \\n\\nIs there anything else I can help you with? 😊 \\n'"
      ]
     },
     "execution_count": 20,
     "metadata": {},
     "output_type": "execute_result"
    }
   ],
   "source": [
    "config2 = {\"configurable\": {\"session_id\":\"chat2\"}}\n",
    "\n",
    "response =with_message_history.invoke(\n",
    "    [HumanMessage(content=\"what's my name?\")],\n",
    "    config=config2\n",
    ")\n",
    "\n",
    "response.content"
   ]
  },
  {
   "cell_type": "code",
   "execution_count": 21,
   "metadata": {},
   "outputs": [
    {
     "data": {
      "text/plain": [
       "\"It seems we both share the name John!  That's interesting.  \\n\\nWhat can I do for you, John? 😄 \\n\""
      ]
     },
     "execution_count": 21,
     "metadata": {},
     "output_type": "execute_result"
    }
   ],
   "source": [
    "response =with_message_history.invoke(\n",
    "    [HumanMessage(content=\"My name is John\")],\n",
    "    config=config2\n",
    ")\n",
    "\n",
    "response.content"
   ]
  },
  {
   "cell_type": "code",
   "execution_count": 22,
   "metadata": {},
   "outputs": [
    {
     "data": {
      "text/plain": [
       "'Your name is John.  \\n\\nIs there something specific you want to know about your name, John? 😊 \\n'"
      ]
     },
     "execution_count": 22,
     "metadata": {},
     "output_type": "execute_result"
    }
   ],
   "source": [
    "response =with_message_history.invoke(\n",
    "    [HumanMessage(content=\"What's my Name ?\")],\n",
    "    config=config2\n",
    ")\n",
    "\n",
    "response.content"
   ]
  },
  {
   "cell_type": "code",
   "execution_count": 23,
   "metadata": {},
   "outputs": [
    {
     "data": {
      "text/plain": [
       "\"Your name is Ankit!  \\n\\nI'm glad I could remember it. 😊  \\n\\nHow can I help you today?\\n\""
      ]
     },
     "execution_count": 23,
     "metadata": {},
     "output_type": "execute_result"
    }
   ],
   "source": [
    "response =with_message_history.invoke(\n",
    "    [HumanMessage(content=\"What's my Name ?\")],\n",
    "    config=config\n",
    ")\n",
    "\n",
    "response.content"
   ]
  },
  {
   "cell_type": "code",
   "execution_count": 24,
   "metadata": {},
   "outputs": [
    {
     "data": {
      "text/plain": [
       "{'chat1': InMemoryChatMessageHistory(messages=[HumanMessage(content=\"what's my name?\", additional_kwargs={}, response_metadata={}), AIMessage(content=\"As an AI, I have no memory of past conversations and don't know your name. If you'd like to tell me, I'm happy to know! 😊  \\n\\n\", additional_kwargs={}, response_metadata={'token_usage': {'completion_tokens': 41, 'prompt_tokens': 15, 'total_tokens': 56, 'completion_time': 0.074545455, 'prompt_time': 7.653e-05, 'queue_time': 0.013819178, 'total_time': 0.074621985}, 'model_name': 'gemma2-9b-it', 'system_fingerprint': 'fp_10c08bf97d', 'finish_reason': 'stop', 'logprobs': None}, id='run-f9db0e87-28f0-4b0d-a94e-a742b7113fcd-0', usage_metadata={'input_tokens': 15, 'output_tokens': 41, 'total_tokens': 56}), HumanMessage(content=\"What's my Name ?\", additional_kwargs={}, response_metadata={}), AIMessage(content=\"Since I'm just a language model, I don't have access to any personal information about you, including your name.  \\n\\nIf you'd like to tell me your name, I'm happy to use it! 😊  \\n\\n\", additional_kwargs={}, response_metadata={'token_usage': {'completion_tokens': 53, 'prompt_tokens': 69, 'total_tokens': 122, 'completion_time': 0.096363636, 'prompt_time': 0.010078761, 'queue_time': 0.047086429, 'total_time': 0.106442397}, 'model_name': 'gemma2-9b-it', 'system_fingerprint': 'fp_10c08bf97d', 'finish_reason': 'stop', 'logprobs': None}, id='run-e6bc7be4-d0f5-4504-9f41-88ce55902e83-0', usage_metadata={'input_tokens': 69, 'output_tokens': 53, 'total_tokens': 122}), HumanMessage(content=\"what's my name?\", additional_kwargs={}, response_metadata={}), AIMessage(content=\"I still don't know your name! \\n\\nRemember, I'm a language model and don't have any memory of past conversations.  If you'd like to tell me, I'm all ears. 😊  \\n\\n\", additional_kwargs={}, response_metadata={'token_usage': {'completion_tokens': 52, 'prompt_tokens': 135, 'total_tokens': 187, 'completion_time': 0.094545455, 'prompt_time': 0.005120715, 'queue_time': 0.009365696, 'total_time': 0.09966617}, 'model_name': 'gemma2-9b-it', 'system_fingerprint': 'fp_10c08bf97d', 'finish_reason': 'stop', 'logprobs': None}, id='run-acb5319f-70be-4f7c-9b8c-ce5c8bf0b6f4-0', usage_metadata={'input_tokens': 135, 'output_tokens': 52, 'total_tokens': 187}), HumanMessage(content='My name is John', additional_kwargs={}, response_metadata={}), AIMessage(content=\"Hi John! It's nice to meet you. \\n\\nIs there anything I can help you with today? 😊\\n\", additional_kwargs={}, response_metadata={'token_usage': {'completion_tokens': 27, 'prompt_tokens': 198, 'total_tokens': 225, 'completion_time': 0.049090909, 'prompt_time': 0.01035001, 'queue_time': 0.0028201100000000007, 'total_time': 0.059440919}, 'model_name': 'gemma2-9b-it', 'system_fingerprint': 'fp_10c08bf97d', 'finish_reason': 'stop', 'logprobs': None}, id='run-a2d18ec5-fad2-4932-a700-1594b104bc0d-0', usage_metadata={'input_tokens': 198, 'output_tokens': 27, 'total_tokens': 225}), HumanMessage(content='My name is Ankit', additional_kwargs={}, response_metadata={}), AIMessage(content=\"Hi Ankit!\\n\\nIt's great to meet you.  Is there anything I can help you with today? 😊  \\n\", additional_kwargs={}, response_metadata={'token_usage': {'completion_tokens': 29, 'prompt_tokens': 238, 'total_tokens': 267, 'completion_time': 0.052727273, 'prompt_time': 0.015625804, 'queue_time': 0.0033452859999999994, 'total_time': 0.068353077}, 'model_name': 'gemma2-9b-it', 'system_fingerprint': 'fp_10c08bf97d', 'finish_reason': 'stop', 'logprobs': None}, id='run-6e934198-c232-4e03-bb56-12c071a9cb4b-0', usage_metadata={'input_tokens': 238, 'output_tokens': 29, 'total_tokens': 267}), HumanMessage(content=\"what's my name?\", additional_kwargs={}, response_metadata={}), AIMessage(content='Hi Ankit!  \\n\\nI remember you told me your name is Ankit. 😊  \\n\\nIs there anything I can help you with? \\n', additional_kwargs={}, response_metadata={'token_usage': {'completion_tokens': 33, 'prompt_tokens': 281, 'total_tokens': 314, 'completion_time': 0.06, 'prompt_time': 0.008871624, 'queue_time': 0.004300396, 'total_time': 0.068871624}, 'model_name': 'gemma2-9b-it', 'system_fingerprint': 'fp_10c08bf97d', 'finish_reason': 'stop', 'logprobs': None}, id='run-857de907-df09-432d-a118-806f57292460-0', usage_metadata={'input_tokens': 281, 'output_tokens': 33, 'total_tokens': 314}), HumanMessage(content=\"What's my Name ?\", additional_kwargs={}, response_metadata={}), AIMessage(content=\"Your name is Ankit!  \\n\\nI'm glad I could remember it. 😊  \\n\\nHow can I help you today?\\n\", additional_kwargs={}, response_metadata={'token_usage': {'completion_tokens': 30, 'prompt_tokens': 328, 'total_tokens': 358, 'completion_time': 0.054545455, 'prompt_time': 0.011740616, 'queue_time': 0.0028763739999999993, 'total_time': 0.066286071}, 'model_name': 'gemma2-9b-it', 'system_fingerprint': 'fp_10c08bf97d', 'finish_reason': 'stop', 'logprobs': None}, id='run-374158c6-8eb8-4cac-a26b-4df22695c931-0', usage_metadata={'input_tokens': 328, 'output_tokens': 30, 'total_tokens': 358})]),\n",
       " 'chat2': InMemoryChatMessageHistory(messages=[HumanMessage(content=\"what's my name?\", additional_kwargs={}, response_metadata={}), AIMessage(content=\"As an AI, I have no memory of past conversations and don't know your name.\\n\\nIf you'd like to tell me your name, I'd be happy to know! 😊  \\n\\n\", additional_kwargs={}, response_metadata={'token_usage': {'completion_tokens': 45, 'prompt_tokens': 15, 'total_tokens': 60, 'completion_time': 0.081818182, 'prompt_time': 0.000210799, 'queue_time': 0.015251581, 'total_time': 0.082028981}, 'model_name': 'gemma2-9b-it', 'system_fingerprint': 'fp_10c08bf97d', 'finish_reason': 'stop', 'logprobs': None}, id='run-565a0220-9bdc-4241-beea-fe976faef424-0', usage_metadata={'input_tokens': 15, 'output_tokens': 45, 'total_tokens': 60}), HumanMessage(content='My name is John', additional_kwargs={}, response_metadata={}), AIMessage(content=\"It's nice to meet you, John!  How can I help you today? 😊 \\n\", additional_kwargs={}, response_metadata={'token_usage': {'completion_tokens': 23, 'prompt_tokens': 71, 'total_tokens': 94, 'completion_time': 0.041818182, 'prompt_time': 0.003455676, 'queue_time': 0.011167614000000001, 'total_time': 0.045273858}, 'model_name': 'gemma2-9b-it', 'system_fingerprint': 'fp_10c08bf97d', 'finish_reason': 'stop', 'logprobs': None}, id='run-e3850a1b-2be7-4e0c-b484-3ae6560e5f90-0', usage_metadata={'input_tokens': 71, 'output_tokens': 23, 'total_tokens': 94}), HumanMessage(content=\"What's my Name ?\", additional_kwargs={}, response_metadata={}), AIMessage(content=\"Your name is John.  \\n\\nIs there anything else you'd like to know or talk about?  \\n\", additional_kwargs={}, response_metadata={'token_usage': {'completion_tokens': 25, 'prompt_tokens': 108, 'total_tokens': 133, 'completion_time': 0.045454545, 'prompt_time': 0.007850689, 'queue_time': 0.005426761, 'total_time': 0.053305234}, 'model_name': 'gemma2-9b-it', 'system_fingerprint': 'fp_10c08bf97d', 'finish_reason': 'stop', 'logprobs': None}, id='run-3c4459c1-a9cc-4a77-885b-d66a29d5e886-0', usage_metadata={'input_tokens': 108, 'output_tokens': 25, 'total_tokens': 133}), HumanMessage(content=\"what's my name?\", additional_kwargs={}, response_metadata={}), AIMessage(content='Your name is John.  \\n\\nIs there anything else I can help you with? 😊 \\n', additional_kwargs={}, response_metadata={'token_usage': {'completion_tokens': 22, 'prompt_tokens': 147, 'total_tokens': 169, 'completion_time': 0.04, 'prompt_time': 0.007063509, 'queue_time': 0.007540740999999999, 'total_time': 0.047063509}, 'model_name': 'gemma2-9b-it', 'system_fingerprint': 'fp_10c08bf97d', 'finish_reason': 'stop', 'logprobs': None}, id='run-e3722938-e895-489a-8625-a62e2b191156-0', usage_metadata={'input_tokens': 147, 'output_tokens': 22, 'total_tokens': 169}), HumanMessage(content='My name is John', additional_kwargs={}, response_metadata={}), AIMessage(content=\"It seems we both share the name John!  That's interesting.  \\n\\nWhat can I do for you, John? 😄 \\n\", additional_kwargs={}, response_metadata={'token_usage': {'completion_tokens': 31, 'prompt_tokens': 181, 'total_tokens': 212, 'completion_time': 0.056363636, 'prompt_time': 0.005499484, 'queue_time': 0.008208815000000001, 'total_time': 0.06186312}, 'model_name': 'gemma2-9b-it', 'system_fingerprint': 'fp_10c08bf97d', 'finish_reason': 'stop', 'logprobs': None}, id='run-3d30867e-4728-43e0-bb4b-8a952a96d211-0', usage_metadata={'input_tokens': 181, 'output_tokens': 31, 'total_tokens': 212}), HumanMessage(content=\"What's my Name ?\", additional_kwargs={}, response_metadata={}), AIMessage(content='Your name is John.  \\n\\nIs there something specific you want to know about your name, John? 😊 \\n', additional_kwargs={}, response_metadata={'token_usage': {'completion_tokens': 26, 'prompt_tokens': 226, 'total_tokens': 252, 'completion_time': 0.047272727, 'prompt_time': 0.008541055, 'queue_time': 0.006375585, 'total_time': 0.055813782}, 'model_name': 'gemma2-9b-it', 'system_fingerprint': 'fp_10c08bf97d', 'finish_reason': 'stop', 'logprobs': None}, id='run-2c3bc2fc-0f84-463c-a066-4a577625ed37-0', usage_metadata={'input_tokens': 226, 'output_tokens': 26, 'total_tokens': 252})])}"
      ]
     },
     "execution_count": 24,
     "metadata": {},
     "output_type": "execute_result"
    }
   ],
   "source": [
    "store"
   ]
  },
  {
   "cell_type": "markdown",
   "metadata": {},
   "source": [
    "### Prompt Templates \n",
    "\n",
    "\n",
    "Prompt templates help to turn raw user information into a format that the LLM can work with. \n",
    "In this case raw user input is just a message. which we are passing to the LLM. Let's now make that a bit more complicated.   \n",
    "First Let's add in a system message with some custo instructions .\n",
    "\n",
    "Next we'll add in more input besided just the messages.\n",
    "\n",
    "\n"
   ]
  },
  {
   "cell_type": "code",
   "execution_count": 27,
   "metadata": {},
   "outputs": [],
   "source": [
    "from langchain_core.prompts import ChatPromptTemplate,MessagesPlaceholder\n",
    "\n",
    "prompt = ChatPromptTemplate.from_messages(\n",
    "    [\n",
    "        (\"system\",\"You are helpfull assistant. Answer all the questions to the best of your ability\"),\n",
    "        MessagesPlaceholder(variable_name=\"messages\")\n",
    "    ]\n",
    "    \n",
    ")\n",
    "\n",
    "chain = prompt|model\n"
   ]
  },
  {
   "cell_type": "code",
   "execution_count": 29,
   "metadata": {},
   "outputs": [
    {
     "data": {
      "text/plain": [
       "AIMessage(content=\"Hello Ankit, it's nice to meet you! \\n\\nHow can I help you today? 😊  \\n\\n\", additional_kwargs={}, response_metadata={'token_usage': {'completion_tokens': 27, 'prompt_tokens': 31, 'total_tokens': 58, 'completion_time': 0.049090909, 'prompt_time': 0.000356658, 'queue_time': 0.01394047, 'total_time': 0.049447567}, 'model_name': 'gemma2-9b-it', 'system_fingerprint': 'fp_10c08bf97d', 'finish_reason': 'stop', 'logprobs': None}, id='run-775b36c8-31c6-4555-a325-c8b086695a2b-0', usage_metadata={'input_tokens': 31, 'output_tokens': 27, 'total_tokens': 58})"
      ]
     },
     "execution_count": 29,
     "metadata": {},
     "output_type": "execute_result"
    }
   ],
   "source": [
    "## Whatever messages we gonna give , we must give in Key Value Pair\n",
    "## with Key \"messages\"\n",
    "\n",
    "chain.invoke(\n",
    "{\n",
    "    \"messages\": [ HumanMessage(content=\"Hi my name is Ankit\") ]\n",
    "}\n",
    ")\n",
    "\n"
   ]
  },
  {
   "cell_type": "code",
   "execution_count": 31,
   "metadata": {},
   "outputs": [],
   "source": [
    "with_message_history = RunnableWithMessageHistory(chain,get_session_history)\n",
    "\n",
    "config2 = {\n",
    "    \"configurable\":{\"session_id\": \"chat3\"}      \n",
    "          }"
   ]
  },
  {
   "cell_type": "code",
   "execution_count": 32,
   "metadata": {},
   "outputs": [
    {
     "data": {
      "text/plain": [
       "AIMessage(content=\"Hello Ankit! It's nice to meet you.  \\n\\nHow can I help you today? 😊 \\n\", additional_kwargs={}, response_metadata={'token_usage': {'completion_tokens': 26, 'prompt_tokens': 31, 'total_tokens': 57, 'completion_time': 0.047272727, 'prompt_time': 0.001707964, 'queue_time': 0.04864019, 'total_time': 0.048980691}, 'model_name': 'gemma2-9b-it', 'system_fingerprint': 'fp_10c08bf97d', 'finish_reason': 'stop', 'logprobs': None}, id='run-1453f0b9-2cfe-4962-9326-ac69800df7ea-0', usage_metadata={'input_tokens': 31, 'output_tokens': 26, 'total_tokens': 57})"
      ]
     },
     "execution_count": 32,
     "metadata": {},
     "output_type": "execute_result"
    }
   ],
   "source": [
    "response = with_message_history.invoke(\n",
    "\n",
    "[ HumanMessage(content=\"Hi my name is Ankit\") ],\n",
    "config=config2\n",
    ")\n",
    "\n",
    "response"
   ]
  },
  {
   "cell_type": "code",
   "execution_count": 33,
   "metadata": {},
   "outputs": [
    {
     "data": {
      "text/plain": [
       "AIMessage(content='Your name is Ankit.  \\n\\nYou told me at the beginning of our conversation! 😊 \\n', additional_kwargs={}, response_metadata={'token_usage': {'completion_tokens': 23, 'prompt_tokens': 70, 'total_tokens': 93, 'completion_time': 0.041818182, 'prompt_time': 0.002063843, 'queue_time': 0.011061026000000002, 'total_time': 0.043882025}, 'model_name': 'gemma2-9b-it', 'system_fingerprint': 'fp_10c08bf97d', 'finish_reason': 'stop', 'logprobs': None}, id='run-3f8b29ab-eb53-4f51-8597-9a3e4d49ecc5-0', usage_metadata={'input_tokens': 70, 'output_tokens': 23, 'total_tokens': 93})"
      ]
     },
     "execution_count": 33,
     "metadata": {},
     "output_type": "execute_result"
    }
   ],
   "source": [
    "response = with_message_history.invoke(\n",
    "\n",
    "[ HumanMessage(content=\"what is my Name ?\") ],\n",
    "config=config2\n",
    ")\n",
    "\n",
    "response"
   ]
  },
  {
   "cell_type": "markdown",
   "metadata": {},
   "source": [
    "### Let's add more complexity \n",
    "\n"
   ]
  },
  {
   "cell_type": "code",
   "execution_count": 34,
   "metadata": {},
   "outputs": [],
   "source": [
    "prompt = ChatPromptTemplate.from_messages(\n",
    "    [\n",
    "        (\"system\",\"You are helpfull assistant. Answer all the questions to the best of your ability in {language}\"),\n",
    "        \n",
    "        MessagesPlaceholder(variable_name=\"messages\")\n",
    "    ]\n",
    "    \n",
    ")\n",
    "\n",
    "chain = prompt|model\n",
    "\n"
   ]
  },
  {
   "cell_type": "code",
   "execution_count": 37,
   "metadata": {},
   "outputs": [
    {
     "data": {
      "text/plain": [
       "'नमस्ते अनकिट!  \\n\\nआपसे बात करना अच्छा लग रहा है। \\n\\nमुझे आपकी सारी प्रश्नों के उत्तर देने में खुशी होगी। \\n\\nआप क्या जानना चाहते हैं? \\n\\n'"
      ]
     },
     "execution_count": 37,
     "metadata": {},
     "output_type": "execute_result"
    }
   ],
   "source": [
    "response = chain.invoke(\n",
    "\n",
    " {\n",
    "     \"messages\":[HumanMessage(content=\"Hi My name is Ankit \")],\n",
    "     \"language\":\"Hindi\"\n",
    " }\n",
    ")\n",
    "\n",
    "\n",
    "response.content "
   ]
  },
  {
   "cell_type": "markdown",
   "metadata": {},
   "source": [
    "Let's now wrap this  more complicated chain in a Message History class. This time, because there are multiple keys in the input,     \n",
    "we need to specify correct key to use to save the chat history."
   ]
  },
  {
   "cell_type": "code",
   "execution_count": 38,
   "metadata": {},
   "outputs": [],
   "source": [
    "with_message_history = RunnableWithMessageHistory(\n",
    "\n",
    "chain, \n",
    "get_session_history,\n",
    "input_messages_key=\"messages\"\n",
    ")"
   ]
  },
  {
   "cell_type": "code",
   "execution_count": 42,
   "metadata": {},
   "outputs": [
    {
     "data": {
      "text/plain": [
       "'नमस्ते Ankit!  \\n\\nआपका नाम सुनकर अच्छा लगा। \\n\\nक्या मैं आपकी कोई मदद कर सकता हूँ?  \\n'"
      ]
     },
     "execution_count": 42,
     "metadata": {},
     "output_type": "execute_result"
    }
   ],
   "source": [
    "\n",
    "config3 = {\n",
    "    \"configurable\":{\"session_id\": \"chat4\"}      \n",
    "          }\n",
    "\n",
    "\n",
    "response = with_message_history.invoke(\n",
    " \n",
    " {'messages':[HumanMessage(content=\"Hi i am Ankit\")], \"language\":\"hindi\" },\n",
    " config=config3\n",
    "\n",
    ")\n",
    "\n",
    "response.content"
   ]
  },
  {
   "cell_type": "code",
   "execution_count": 43,
   "metadata": {},
   "outputs": [
    {
     "data": {
      "text/plain": [
       "'आपका नाम Ankit है।  😊 \\n'"
      ]
     },
     "execution_count": 43,
     "metadata": {},
     "output_type": "execute_result"
    }
   ],
   "source": [
    "response = with_message_history.invoke(\n",
    " \n",
    " {'messages':[HumanMessage(content=\"what is my Name\")], \"language\":\"hindi\" },\n",
    " config=config3\n",
    "\n",
    ")\n",
    "\n",
    "response.content"
   ]
  },
  {
   "cell_type": "markdown",
   "metadata": {},
   "source": [
    "### Managing the Conversation History \n",
    "\n",
    "\n",
    "One important concept to understand when building chatbots is how to manage conversation history. if left unmanaged, the list of messages will \n",
    "\n",
    "grow unbounded and potentially overflow the context window of the LLM.\n",
    "\n",
    "Therefore, it is important to add a step that limits the size of messages you are passing in. \n",
    "\n",
    "'trim_messages' helper to reduce how many messages we're sending to the model. \n",
    "The trimmer allows us to specify how many token we want to keep along with other parameters like if we want to always keep the system messages and whether to allow partial messages. \n",
    "\n",
    "\n",
    "\n",
    "\n"
   ]
  },
  {
   "cell_type": "code",
   "execution_count": 53,
   "metadata": {},
   "outputs": [
    {
     "data": {
      "text/plain": [
       "[SystemMessage(content='Hello! How can I help you today?', additional_kwargs={}, response_metadata={}),\n",
       " HumanMessage(content=\"Hi! What's the result of 2+2?\", additional_kwargs={}, response_metadata={}),\n",
       " SystemMessage(content='The result of 2+2 is 4.', additional_kwargs={}, response_metadata={}),\n",
       " HumanMessage(content='Great, thanks!', additional_kwargs={}, response_metadata={}),\n",
       " SystemMessage(content=\"You're welcome! Goodbye.\", additional_kwargs={}, response_metadata={}),\n",
       " HumanMessage(content='Bye!', additional_kwargs={}, response_metadata={})]"
      ]
     },
     "execution_count": 53,
     "metadata": {},
     "output_type": "execute_result"
    }
   ],
   "source": [
    "from langchain_core.messages import SystemMessage,trim_messages\n",
    "\n",
    "# trim messages : it will help to reduce how many messages we're sending to Model \n",
    "# trimmer allows us to specify how many token we want to keep along with other parameters \n",
    "\n",
    "trimmer=trim_messages(\n",
    "\n",
    "max_tokens = 75, \n",
    "strategy=\"last\",  # last menas last convo pe focus krega\n",
    "token_counter=model, # kitne tokens honge , model use hoga count krne smjho\n",
    "include_system=True,\n",
    "allow_partial=False,\n",
    "start_on = \"human\"\n",
    ")\n",
    "\n",
    "\n",
    "# Define a set of messages\n",
    "messages = [\n",
    "    SystemMessage(content=\"Hello! How can I help you today?\"),\n",
    "    HumanMessage(content=\"Hi! What's the result of 2+2?\"),\n",
    "    SystemMessage(content=\"The result of 2+2 is 4.\"),\n",
    "    HumanMessage(content=\"Great, thanks!\"),\n",
    "    SystemMessage(content=\"You're welcome! Goodbye.\"),\n",
    "    HumanMessage(content=\"Bye!\")\n",
    "]\n",
    "\n",
    "\n",
    "trimmer.invoke(messages)"
   ]
  },
  {
   "cell_type": "code",
   "execution_count": 54,
   "metadata": {},
   "outputs": [
    {
     "data": {
      "text/plain": [
       "'You asked: \"What\\'s the result of 2+2?\" \\n'"
      ]
     },
     "execution_count": 54,
     "metadata": {},
     "output_type": "execute_result"
    }
   ],
   "source": [
    "from operator import itemgetter\n",
    "\n",
    "from langchain_core.runnables import RunnablePassthrough\n",
    "\n",
    "chain = (\n",
    "    RunnablePassthrough.assign(messages= itemgetter(\"messages\")|trimmer) | prompt | model\n",
    ")\n",
    "\n",
    "response=chain.invoke(\n",
    "    {\n",
    "    \"messages\":messages + [HumanMessage(content=\"What question i have asked\")],\n",
    "    \"language\":\"English\"\n",
    "    }\n",
    ")\n",
    "\n",
    "response.content"
   ]
  },
  {
   "cell_type": "code",
   "execution_count": null,
   "metadata": {},
   "outputs": [],
   "source": []
  },
  {
   "cell_type": "code",
   "execution_count": null,
   "metadata": {},
   "outputs": [],
   "source": []
  },
  {
   "cell_type": "code",
   "execution_count": null,
   "metadata": {},
   "outputs": [],
   "source": []
  },
  {
   "cell_type": "code",
   "execution_count": null,
   "metadata": {},
   "outputs": [],
   "source": []
  }
 ],
 "metadata": {
  "kernelspec": {
   "display_name": ".venv",
   "language": "python",
   "name": "python3"
  },
  "language_info": {
   "codemirror_mode": {
    "name": "ipython",
    "version": 3
   },
   "file_extension": ".py",
   "mimetype": "text/x-python",
   "name": "python",
   "nbconvert_exporter": "python",
   "pygments_lexer": "ipython3",
   "version": "3.10.12"
  }
 },
 "nbformat": 4,
 "nbformat_minor": 2
}
